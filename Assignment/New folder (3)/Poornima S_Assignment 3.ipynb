var ibm = require('ibm-cos-sdk');
var util = require('util');
var config = {
    endpoint: '<endpoint>',
    apiKeyId: '<api-key>',
    serviceInstanceId: '<resource-instance-id>',
};
var cos = new ibm.S3(config);
function doCreateBucket() {
    console.log('Creating bucket');
    return cos.createBucket({
        Bucket: 'my-bucket',
        CreateBucketConfiguration: {
          LocationConstraint: 'us-standard'
        },
    }).promise();
}
function doCreateObject() {
    console.log('Creating object');
    return cos.putObject({
        Bucket: 'my-bucket',
        Key: 'foo',
        Body: 'bar'
    }).promise();
}
function doDeleteObject() {
    console.log('Deleting object');
    return cos.deleteObject({
        Bucket: 'my-bucket',
        Key: 'foo'
    }).promise();
}
function doDeleteBucket() {
    console.log('Deleting bucket');
    return cos.deleteBucket({
        Bucket: 'my-bucket'
    }).promise();
}
doCreateBucket()
    .then(doCreateObject)
    .then(doDeleteObject)
    .then(doDeleteBucket)
    .then(function() {
        console.log('Finished!');
    })
    .catch(function(err) {
        console.error('An error occurred:');
        console.error(util.inspect(err));
    });

import boto3
endpoint = 'https://s3-api.us-geo.objectstorage.softlayer.net'
s3 = boto3.resource('s3', endpoint_url=endpoint)
for bucket in s3.buckets.all():
print(bucket.name)
for obj in bucket.objects.all():
print(" - %s") % obj.key


import boto3
import pprint as pp
endpoint = 'https://s3-api.us-geo.objectstorage.softlayer.net'
s3 = boto3.client('s3', endpoint_url=endpoint)
print('These are the buckets in this service account:')
buckets = s3.list_buckets()
pp.pprint(buckets, width=180)
for bucket in buckets['Buckets']:
name = bucket['name']
print("Raw output from 'list_buckets()' in %s:" % name)
objects = s3.list_objects(Bucket=name)
pp.print(objects)

import boto3
import pprint as pp
endpoint = 'https://s3-api.us-geo.objectstorage.softlayer.net'
s3 = boto3.client('s3', endpoint_url=endpoint)
bucket = s3.create_bucket(Bucket=�samepl�,
CreateBucketConfiguration={
�LocationConstraint�: �us-cold�})