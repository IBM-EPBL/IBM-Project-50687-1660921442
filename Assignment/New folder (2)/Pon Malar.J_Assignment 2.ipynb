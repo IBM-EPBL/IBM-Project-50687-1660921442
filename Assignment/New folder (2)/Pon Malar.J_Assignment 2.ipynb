1. import mysql.connector
  db_connection = mysql.connector.connect(
  host="localhost",
  user="root",
  passwd="root",
  database="my_first_db"
  )
db_cursor = db_connection.cursor()
#Here creating database table as student'
db_cursor.execute("CREATE TABLE student (id INT, name VARCHAR(255))")
#Get database table'
db_cursor.execute("SHOW TABLES")
for table in db_cursor:
	print(table)

2. gcreate database employee
use employee
create table employee_tbl
(
EmpId int primary key,
FirstName varchar(50),
LastName varchar(50),
Salary float,
MobileNo varchar (15)
)
insert into employee_tbl values (5, "raman', 'singh', 50000, 7868766676*)
select *from employee tbl
delete from employee_tbl where EmpId=1
update employee_tbl set FirstName='rajjat' where EmpId=3
3.import ibm_db_dbi as db
conn = db.connect("DATABASE=name;HOSTNAME=host;PORT=60000;PROTOCOL=TCPIP;UID=username;PWD=password;", "", "")
list tables with
for t in conn.tables():
    print(t)
and execute SQL with
cursor = conn.cursor()
cursor.execute("SELECT * FROM Schema.Table")
for r in cursor.fetchall():
    print(r)

4. 
from flask import Flask, render_template, request, redirect, url_for, session
from flask_mysqldb import MySQL
import MySQLdb.cursors
import re
app = Flask(__name__)
app.secret_key = 'your secret key'
app.config['MYSQL_HOST'] = 'localhost'
app.config['MYSQL_USER'] = 'root'
app.config['MYSQL_PASSWORD'] = 'your password'
app.config['MYSQL_DB'] = 'geeklogin'
mysql = MySQL(app)
@app.route('/')
@app.route('/login', methods =['GET', 'POST'])
def login():
�msg = ''
�if request.method == 'POST' and 'username' in request.form and 'password' in request.form:
�������username = request.form['username']
���� �password = request.form['password']
      cursor = mysql.connection.cursor(MySQLdb.cursors.DictCursor)
      cursor.execute('SELECT * FROM accounts WHERE username = % s AND password = % s', (username, password, ))
    ��account = cursor.fetchone()
     �if account:
         ��session['loggedin'] = True
         ��session['id'] = account[